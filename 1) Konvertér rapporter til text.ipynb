{
 "cells": [
  {
   "cell_type": "code",
   "execution_count": 1,
   "metadata": {},
   "outputs": [],
   "source": [
    "import os\n",
    "import sys, fitz"
   ]
  },
  {
   "cell_type": "code",
   "execution_count": 2,
   "metadata": {},
   "outputs": [],
   "source": [
    "filepath = \"2020/\"\n",
    "virksomhedsliste = os.listdir(filepath)"
   ]
  },
  {
   "cell_type": "code",
   "execution_count": 3,
   "metadata": {
    "scrolled": true
   },
   "outputs": [
    {
     "data": {
      "text/plain": [
       "['A.P. Møller - Mærsk',\n",
       " 'ALK-Abello',\n",
       " 'Alm. brand',\n",
       " 'Ambu',\n",
       " 'Bavarian Nordic',\n",
       " 'Bestseller',\n",
       " 'Boozt',\n",
       " 'Carlsberg',\n",
       " 'ChemoMetec',\n",
       " 'Chr. Hansen Holding',\n",
       " 'Coloplast',\n",
       " 'Danske bank',\n",
       " 'Demant',\n",
       " 'DFDS',\n",
       " 'DSB',\n",
       " 'DSV',\n",
       " 'FLSmidth',\n",
       " 'Genmab',\n",
       " 'GN Store Nord',\n",
       " 'H. Lundbeck',\n",
       " 'ISS',\n",
       " 'Jeudan',\n",
       " 'Jyske Bank',\n",
       " 'Københavns Lufthavne',\n",
       " 'MATAS',\n",
       " 'Netcompany',\n",
       " 'NKT',\n",
       " 'Nordea Bank',\n",
       " 'Novo Nordisk',\n",
       " 'Novozymes',\n",
       " 'NTG Nordic Transport Group',\n",
       " 'Pandora',\n",
       " 'Q8',\n",
       " 'Ringkjøbing Landbobank',\n",
       " 'Rockwool',\n",
       " 'Royal Greenland',\n",
       " 'Royal Unibrew',\n",
       " 'Salling Group',\n",
       " 'SAS',\n",
       " 'Scandinavian Tobacco Group',\n",
       " 'Schouw & Co',\n",
       " 'Simcorp',\n",
       " 'Spar Nord',\n",
       " 'Sydbank',\n",
       " 'The Drilling Company of 1972',\n",
       " 'Topdanmark',\n",
       " 'Tryg',\n",
       " 'Vestas',\n",
       " 'Zealand Pharma',\n",
       " 'Össur hf',\n",
       " 'Ørsted']"
      ]
     },
     "execution_count": 3,
     "metadata": {},
     "output_type": "execute_result"
    }
   ],
   "source": [
    "virksomhedsliste"
   ]
  },
  {
   "cell_type": "code",
   "execution_count": 4,
   "metadata": {},
   "outputs": [],
   "source": [
    "def pdf2text(input_path, output_path, file_type):\n",
    "    company_name = input_path.split(\"/\")[-2]\n",
    "    doc = fitz.open(input_path)  # open document\n",
    "    out = open(output_path + company_name + file_type + \".txt\", \"wb\")  # open text output\n",
    "    for page in doc:  # iterate the document pages\n",
    "        text = page.get_text().encode(\"utf8\")  # get plain text (is in UTF-8)\n",
    "        text = text.lower()\n",
    "        out.write(text)  # write text of page\n",
    "        out.write(bytes((12,)))  # write page delimiter (form feed 0x0C)\n",
    "    out.close()"
   ]
  },
  {
   "cell_type": "markdown",
   "metadata": {},
   "source": [
    "# Konvertér årsrapporter fra pdf til txt"
   ]
  },
  {
   "cell_type": "code",
   "execution_count": 5,
   "metadata": {},
   "outputs": [
    {
     "name": "stdout",
     "output_type": "stream",
     "text": [
      "2020/A.P. Møller - Mærsk/Annual.pdf\n",
      "2020/ALK-Abello/Annual.pdf\n",
      "2020/Alm. brand/Annual.pdf\n",
      "2020/Ambu/Annual.pdf\n",
      "2020/Bavarian Nordic/Annual.pdf\n",
      "2020/Bestseller/annual.pdf\n",
      "2020/Boozt/Annual.pdf\n",
      "2020/Carlsberg/annual.pdf\n",
      "2020/ChemoMetec/Annual.pdf\n",
      "2020/Chr. Hansen Holding/Annual.pdf\n",
      "2020/Coloplast/Annual.pdf\n",
      "2020/Danske bank/Annual.pdf\n",
      "2020/Demant/Annual.pdf\n",
      "2020/DFDS/Annual.pdf\n",
      "2020/DSB/annual.pdf\n",
      "2020/DSV/Annual.pdf\n",
      "2020/FLSmidth/Annual.pdf\n"
     ]
    },
    {
     "name": "stderr",
     "output_type": "stream",
     "text": [
      "mupdf: invalid page object\n",
      "mupdf: invalid page object\n",
      "mupdf: invalid page object\n",
      "mupdf: invalid page object\n"
     ]
    },
    {
     "name": "stdout",
     "output_type": "stream",
     "text": [
      "2020/Genmab/Annual.pdf\n",
      "2020/GN Store Nord/Annual.pdf\n",
      "2020/H. Lundbeck/Annual.pdf\n",
      "2020/ISS/Annual.pdf\n",
      "2020/Jeudan/Annual.pdf\n",
      "2020/Jyske Bank/Annual.pdf\n",
      "2020/Københavns Lufthavne/Annual.pdf\n",
      "2020/MATAS/annual.pdf\n",
      "2020/Netcompany/annual.pdf\n",
      "2020/NKT/Annual.pdf\n",
      "2020/Nordea Bank/Annual.pdf\n",
      "2020/Novo Nordisk/Annual.pdf\n",
      "2020/Novozymes/Annual.pdf\n"
     ]
    },
    {
     "name": "stderr",
     "output_type": "stream",
     "text": [
      "mupdf: invalid page object\n",
      "mupdf: invalid page object\n",
      "mupdf: invalid page object\n",
      "mupdf: invalid page object\n",
      "mupdf: invalid page object\n",
      "mupdf: invalid page object\n",
      "mupdf: invalid page object\n",
      "mupdf: invalid page object\n",
      "mupdf: invalid page object\n",
      "mupdf: invalid page object\n",
      "mupdf: invalid page object\n",
      "mupdf: invalid page object\n",
      "mupdf: invalid page object\n",
      "mupdf: invalid page object\n",
      "mupdf: invalid page object\n",
      "mupdf: invalid page object\n",
      "mupdf: invalid page object\n"
     ]
    },
    {
     "name": "stdout",
     "output_type": "stream",
     "text": [
      "2020/NTG Nordic Transport Group/Annual.pdf\n",
      "2020/Pandora/Annual.pdf\n",
      "2020/Q8/Annual.pdf\n",
      "2020/Ringkjøbing Landbobank/annual.pdf\n",
      "2020/Rockwool/Annual.pdf\n",
      "2020/Royal Greenland/annual.pdf\n",
      "2020/Royal Unibrew/Annual.pdf\n",
      "2020/Salling Group/annual.pdf\n",
      "2020/SAS/Annual.pdf\n",
      "2020/Scandinavian Tobacco Group/Annual.pdf\n",
      "2020/Schouw & Co/Annual.pdf\n",
      "2020/Simcorp/Annual.pdf\n",
      "2020/Spar Nord/Annual.pdf\n",
      "2020/Sydbank/Annual.pdf\n",
      "2020/The Drilling Company of 1972/Annual.pdf\n",
      "2020/Topdanmark/Annual.pdf\n",
      "2020/Tryg/Annual.pdf\n",
      "2020/Vestas/Annual.pdf\n",
      "2020/Zealand Pharma/Annual.pdf\n",
      "2020/Össur hf/Annual.pdf\n",
      "2020/Ørsted/Annual.pdf\n"
     ]
    }
   ],
   "source": [
    "for virk in virksomhedsliste:\n",
    "    folder = os.listdir(filepath + virk)\n",
    "    for file in folder:\n",
    "        if \"nual.pdf\" in file:\n",
    "            path = filepath + virk  + \"/\" + file\n",
    "            print(path)\n",
    "            pdf2text(path, output_path=\"Årsrapporter/\", file_type = \" annual\")\n",
    "            "
   ]
  },
  {
   "cell_type": "markdown",
   "metadata": {},
   "source": [
    "# Konvertér bæredygtighedsrapporter fra pdf til txt"
   ]
  },
  {
   "cell_type": "code",
   "execution_count": 7,
   "metadata": {},
   "outputs": [
    {
     "name": "stdout",
     "output_type": "stream",
     "text": [
      "2020/A.P. Møller - Mærsk/Sustainability.pdf\n",
      "2020/ALK-Abello/Sustainability.pdf\n",
      "2020/Alm. brand/Sustainability.pdf\n",
      "2020/Ambu/Sustainability.pdf\n",
      "2020/Bavarian Nordic/Sustainability.pdf\n",
      "2020/Bestseller/sustainability.pdf\n",
      "2020/Boozt/Sustainability.pdf\n",
      "2020/Carlsberg/sustainability.pdf\n",
      "2020/ChemoMetec/Dansk årsrapport med afsnit om bæredygtighed.pdf\n",
      "2020/Chr. Hansen Holding/Sustainability.pdf\n",
      "2020/Coloplast/Sustainability.pdf\n",
      "2020/Danske bank/Sustainability.pdf\n",
      "2020/Demant/Sustainability.pdf\n",
      "2020/DFDS/Sustainability.pdf\n",
      "2020/DSV/Sustainability.pdf\n",
      "2020/FLSmidth/Sustainability.pdf\n",
      "2020/Genmab/Sustainability.pdf\n",
      "2020/GN Store Nord/Sustainability.pdf\n",
      "2020/H. Lundbeck/Sustainability.pdf\n",
      "2020/ISS/Sustainability.pdf\n",
      "2020/Jeudan/Sustainability.pdf\n",
      "2020/Jyske Bank/Sustainability.pdf\n",
      "2020/Netcompany/sustainability.pdf\n",
      "2020/NKT/Sustainability.pdf\n",
      "2020/Nordea Bank/Sustainability.pdf\n",
      "2020/Novozymes/Sustainability.pdf\n",
      "2020/Pandora/Sustainability.pdf\n",
      "2020/Q8/sustainability.pdf\n",
      "2020/Ringkjøbing Landbobank/Sustainability.pdf\n",
      "2020/Rockwool/Sustainability.pdf\n",
      "2020/Salling Group/sustainability.pdf\n",
      "2020/Scandinavian Tobacco Group/Sustainability.pdf\n",
      "2020/Schouw & Co/Sustainability.pdf\n",
      "2020/Simcorp/Sustainability.pdf\n",
      "2020/Spar Nord/Sustainability.pdf\n",
      "2020/Sydbank/Sustainability.pdf\n",
      "2020/The Drilling Company of 1972/Sustainability.pdf\n",
      "2020/Topdanmark/Sustainability.pdf\n",
      "2020/Tryg/Sustainability.pdf\n",
      "2020/Vestas/Sustainability.pdf\n",
      "2020/Zealand Pharma/Sustainability.pdf\n",
      "2020/Ørsted/Sustainability.pdf\n"
     ]
    }
   ],
   "source": [
    "for virk in virksomhedsliste:\n",
    "    folder = os.listdir(filepath + virk)\n",
    "    for file in folder:\n",
    "        if not \"nual.pdf\" in file:\n",
    "            path = filepath + virk + \"/\" + file\n",
    "            print(path)\n",
    "            pdf2text(path, output_path=\"Bæredygtighedsrapporter/\", file_type = \" sustain\")\n",
    "            "
   ]
  },
  {
   "cell_type": "code",
   "execution_count": null,
   "metadata": {},
   "outputs": [],
   "source": []
  }
 ],
 "metadata": {
  "kernelspec": {
   "display_name": "Python 3",
   "language": "python",
   "name": "python3"
  },
  "language_info": {
   "codemirror_mode": {
    "name": "ipython",
    "version": 3
   },
   "file_extension": ".py",
   "mimetype": "text/x-python",
   "name": "python",
   "nbconvert_exporter": "python",
   "pygments_lexer": "ipython3",
   "version": "3.8.5"
  }
 },
 "nbformat": 4,
 "nbformat_minor": 4
}
